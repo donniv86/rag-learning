{
 "nbformat": 4,
 "nbformat_minor": 5,
 "metadata": {},
 "cells": [
  {
   "id": "6340f753",
   "cell_type": "markdown",
   "source": "# Embedding Techniques\n\nThis notebook explores various embedding techniques.",
   "metadata": {}
  },
  {
   "id": "69517707",
   "cell_type": "code",
   "metadata": {},
   "execution_count": null,
   "source": "# Import required libraries\nimport numpy as np\nfrom sklearn.metrics import precision_score, recall_score",
   "outputs": []
  }
 ]
}