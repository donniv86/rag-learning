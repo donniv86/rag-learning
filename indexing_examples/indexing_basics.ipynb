{
 "nbformat": 4,
 "nbformat_minor": 5,
 "metadata": {},
 "cells": [
  {
   "id": "a7157abc",
   "cell_type": "markdown",
   "source": "# Indexing Basics\n\nThis notebook covers the basics of indexing in RAG systems.",
   "metadata": {}
  },
  {
   "id": "da1eab6c",
   "cell_type": "code",
   "metadata": {},
   "execution_count": null,
   "source": "# Import required libraries\nimport numpy as np\nfrom sklearn.metrics import precision_score, recall_score",
   "outputs": []
  }
 ]
}